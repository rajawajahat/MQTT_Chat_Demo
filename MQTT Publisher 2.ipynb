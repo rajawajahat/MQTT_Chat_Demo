{
 "cells": [
  {
   "cell_type": "code",
   "execution_count": 7,
   "metadata": {},
   "outputs": [],
   "source": [
    "import ssl\n",
    "import paho.mqtt.client as mqtt\n",
    "\n",
    "outbox = []\n",
    "\n",
    "def send_message():\n",
    "    client = mqtt.Client(client_id='RPi-000000000079')\n",
    "    client.username_pw_set(username=\"commandandcontrol\", password=\"Qpc423hwdM\")\n",
    "    client.tls_set(tls_version=ssl.PROTOCOL_TLSv1_2)\n",
    "    client.connect(\"cwlicc.zapto.org\", 8883, 60)\n",
    "    \n",
    "    message = input(\"Enter your message:\\n\")\n",
    "    outbox.append(message)\n",
    "    \n",
    "    client.publish(\"inbox1\", message);\n",
    "    client.loop();\n",
    "    client.disconnect();"
   ]
  },
  {
   "cell_type": "code",
   "execution_count": null,
   "metadata": {},
   "outputs": [],
   "source": [
    "while True:\n",
    "    send_message()"
   ]
  },
  {
   "cell_type": "code",
   "execution_count": null,
   "metadata": {},
   "outputs": [],
   "source": []
  }
 ],
 "metadata": {
  "kernelspec": {
   "display_name": "Python 3",
   "language": "python",
   "name": "python3"
  },
  "language_info": {
   "codemirror_mode": {
    "name": "ipython",
    "version": 3
   },
   "file_extension": ".py",
   "mimetype": "text/x-python",
   "name": "python",
   "nbconvert_exporter": "python",
   "pygments_lexer": "ipython3",
   "version": "3.6.5"
  },
  "toc": {
   "base_numbering": 1,
   "nav_menu": {},
   "number_sections": true,
   "sideBar": true,
   "skip_h1_title": false,
   "title_cell": "Table of Contents",
   "title_sidebar": "Contents",
   "toc_cell": false,
   "toc_position": {},
   "toc_section_display": true,
   "toc_window_display": false
  }
 },
 "nbformat": 4,
 "nbformat_minor": 2
}
